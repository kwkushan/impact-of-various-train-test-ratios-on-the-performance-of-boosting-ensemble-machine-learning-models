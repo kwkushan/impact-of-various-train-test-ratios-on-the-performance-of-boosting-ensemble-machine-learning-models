{
 "cells": [
  {
   "cell_type": "markdown",
   "id": "ab04c356",
   "metadata": {},
   "source": [
    "#### Reading Data"
   ]
  },
  {
   "cell_type": "code",
   "execution_count": 1,
   "id": "aaf06a13",
   "metadata": {},
   "outputs": [],
   "source": [
    "import numpy as np # for array operations and for mean absolute relative error\n",
    "import pandas as pd # for working with DataFrames\n",
    "import seaborn as sns\n",
    "import matplotlib.pyplot as plt"
   ]
  },
  {
   "cell_type": "code",
   "execution_count": 2,
   "id": "e5568574",
   "metadata": {},
   "outputs": [
    {
     "data": {
      "text/html": [
       "<div>\n",
       "<style scoped>\n",
       "    .dataframe tbody tr th:only-of-type {\n",
       "        vertical-align: middle;\n",
       "    }\n",
       "\n",
       "    .dataframe tbody tr th {\n",
       "        vertical-align: top;\n",
       "    }\n",
       "\n",
       "    .dataframe thead th {\n",
       "        text-align: right;\n",
       "    }\n",
       "</style>\n",
       "<table border=\"1\" class=\"dataframe\">\n",
       "  <thead>\n",
       "    <tr style=\"text-align: right;\">\n",
       "      <th></th>\n",
       "      <th>GR</th>\n",
       "      <th>NPHI</th>\n",
       "      <th>DT</th>\n",
       "      <th>DDLL</th>\n",
       "      <th>CAL</th>\n",
       "      <th>SP</th>\n",
       "      <th>PHIF</th>\n",
       "    </tr>\n",
       "  </thead>\n",
       "  <tbody>\n",
       "    <tr>\n",
       "      <th>0</th>\n",
       "      <td>100.584839</td>\n",
       "      <td>9.717820</td>\n",
       "      <td>68.486836</td>\n",
       "      <td>10.088133</td>\n",
       "      <td>8.214933</td>\n",
       "      <td>152.518868</td>\n",
       "      <td>16.720</td>\n",
       "    </tr>\n",
       "    <tr>\n",
       "      <th>1</th>\n",
       "      <td>90.719633</td>\n",
       "      <td>10.742601</td>\n",
       "      <td>68.353292</td>\n",
       "      <td>8.850653</td>\n",
       "      <td>8.214862</td>\n",
       "      <td>153.070232</td>\n",
       "      <td>9.976</td>\n",
       "    </tr>\n",
       "    <tr>\n",
       "      <th>2</th>\n",
       "      <td>85.966671</td>\n",
       "      <td>11.569975</td>\n",
       "      <td>67.884402</td>\n",
       "      <td>8.250872</td>\n",
       "      <td>8.214865</td>\n",
       "      <td>151.473111</td>\n",
       "      <td>10.520</td>\n",
       "    </tr>\n",
       "    <tr>\n",
       "      <th>3</th>\n",
       "      <td>84.310091</td>\n",
       "      <td>12.136198</td>\n",
       "      <td>67.568475</td>\n",
       "      <td>8.087051</td>\n",
       "      <td>8.214863</td>\n",
       "      <td>150.235458</td>\n",
       "      <td>10.730</td>\n",
       "    </tr>\n",
       "    <tr>\n",
       "      <th>4</th>\n",
       "      <td>84.286258</td>\n",
       "      <td>12.447312</td>\n",
       "      <td>67.242100</td>\n",
       "      <td>8.162846</td>\n",
       "      <td>8.214900</td>\n",
       "      <td>149.627142</td>\n",
       "      <td>10.660</td>\n",
       "    </tr>\n",
       "  </tbody>\n",
       "</table>\n",
       "</div>"
      ],
      "text/plain": [
       "           GR       NPHI         DT       DDLL       CAL          SP    PHIF\n",
       "0  100.584839   9.717820  68.486836  10.088133  8.214933  152.518868  16.720\n",
       "1   90.719633  10.742601  68.353292   8.850653  8.214862  153.070232   9.976\n",
       "2   85.966671  11.569975  67.884402   8.250872  8.214865  151.473111  10.520\n",
       "3   84.310091  12.136198  67.568475   8.087051  8.214863  150.235458  10.730\n",
       "4   84.286258  12.447312  67.242100   8.162846  8.214900  149.627142  10.660"
      ]
     },
     "execution_count": 2,
     "metadata": {},
     "output_type": "execute_result"
    }
   ],
   "source": [
    "df = pd.read_csv('porocal.csv')\n",
    "df.head()"
   ]
  },
  {
   "cell_type": "code",
   "execution_count": 3,
   "id": "4d8efd78",
   "metadata": {},
   "outputs": [
    {
     "data": {
      "text/plain": [
       "(2500, 7)"
      ]
     },
     "execution_count": 3,
     "metadata": {},
     "output_type": "execute_result"
    }
   ],
   "source": [
    "df.shape"
   ]
  },
  {
   "cell_type": "code",
   "execution_count": 4,
   "id": "2b95e03f",
   "metadata": {},
   "outputs": [],
   "source": [
    "X = df.drop('PHIF', axis = 1) # Features\n",
    "y = df['PHIF']  # Target"
   ]
  },
  {
   "cell_type": "markdown",
   "id": "9fe8efe8",
   "metadata": {},
   "source": [
    "#### Random Forest Regression Model"
   ]
  },
  {
   "cell_type": "code",
   "execution_count": 5,
   "id": "b81ec601",
   "metadata": {},
   "outputs": [],
   "source": [
    "from sklearn.inspection import permutation_importance\n",
    "from sklearn.metrics import mean_squared_error\n",
    "from sklearn.model_selection import train_test_split\n",
    "from sklearn.ensemble import AdaBoostRegressor\n",
    "from sklearn.metrics import r2_score\n",
    "from sklearn import metrics   "
   ]
  },
  {
   "cell_type": "markdown",
   "id": "c72bb444",
   "metadata": {},
   "source": [
    "Data split for test set"
   ]
  },
  {
   "cell_type": "code",
   "execution_count": 6,
   "id": "f5d1e02e",
   "metadata": {},
   "outputs": [],
   "source": [
    "X_train, X_test, y_train, y_test = train_test_split(X, y, test_size=0.2, random_state=0)"
   ]
  },
  {
   "cell_type": "markdown",
   "id": "bf575b06",
   "metadata": {},
   "source": [
    "Data split for validation set"
   ]
  },
  {
   "cell_type": "code",
   "execution_count": 7,
   "id": "3ba19891",
   "metadata": {},
   "outputs": [],
   "source": [
    "X_train, X_val, y_train, y_val = train_test_split(X_train, y_train, test_size=0.2, random_state=0)"
   ]
  },
  {
   "cell_type": "code",
   "execution_count": 8,
   "id": "fc8f3574",
   "metadata": {},
   "outputs": [
    {
     "data": {
      "text/plain": [
       "(1600, 6)"
      ]
     },
     "execution_count": 8,
     "metadata": {},
     "output_type": "execute_result"
    }
   ],
   "source": [
    "X_train.shape"
   ]
  },
  {
   "cell_type": "code",
   "execution_count": 9,
   "id": "aee253fe",
   "metadata": {},
   "outputs": [
    {
     "data": {
      "text/plain": [
       "(1600,)"
      ]
     },
     "execution_count": 9,
     "metadata": {},
     "output_type": "execute_result"
    }
   ],
   "source": [
    "y_train.shape"
   ]
  },
  {
   "cell_type": "code",
   "execution_count": 10,
   "id": "ce4b9c68",
   "metadata": {},
   "outputs": [
    {
     "data": {
      "text/plain": [
       "(400, 6)"
      ]
     },
     "execution_count": 10,
     "metadata": {},
     "output_type": "execute_result"
    }
   ],
   "source": [
    "X_val.shape"
   ]
  },
  {
   "cell_type": "code",
   "execution_count": 11,
   "id": "51fb4d33",
   "metadata": {},
   "outputs": [
    {
     "data": {
      "text/plain": [
       "(400,)"
      ]
     },
     "execution_count": 11,
     "metadata": {},
     "output_type": "execute_result"
    }
   ],
   "source": [
    "y_val.shape"
   ]
  },
  {
   "cell_type": "code",
   "execution_count": 12,
   "id": "fc81474e",
   "metadata": {},
   "outputs": [
    {
     "data": {
      "text/plain": [
       "(500, 6)"
      ]
     },
     "execution_count": 12,
     "metadata": {},
     "output_type": "execute_result"
    }
   ],
   "source": [
    "X_test.shape"
   ]
  },
  {
   "cell_type": "code",
   "execution_count": 13,
   "id": "7ef912a0",
   "metadata": {},
   "outputs": [
    {
     "data": {
      "text/plain": [
       "(500,)"
      ]
     },
     "execution_count": 13,
     "metadata": {},
     "output_type": "execute_result"
    }
   ],
   "source": [
    "y_test.shape"
   ]
  },
  {
   "cell_type": "code",
   "execution_count": 14,
   "id": "cc0f6a42",
   "metadata": {},
   "outputs": [],
   "source": [
    "ada=AdaBoostRegressor(random_state=0)"
   ]
  },
  {
   "cell_type": "code",
   "execution_count": 15,
   "id": "f88166db",
   "metadata": {},
   "outputs": [
    {
     "data": {
      "text/plain": [
       "AdaBoostRegressor(random_state=0)"
      ]
     },
     "execution_count": 15,
     "metadata": {},
     "output_type": "execute_result"
    }
   ],
   "source": [
    "ada.fit(X_train, y_train)"
   ]
  },
  {
   "cell_type": "code",
   "execution_count": 16,
   "id": "3c4aa88d",
   "metadata": {},
   "outputs": [],
   "source": [
    "y_train_pred = ada.predict(X_train)"
   ]
  },
  {
   "cell_type": "code",
   "execution_count": 17,
   "id": "b2b1e0ef",
   "metadata": {},
   "outputs": [],
   "source": [
    "y_val_pred = ada.predict(X_val)"
   ]
  },
  {
   "cell_type": "code",
   "execution_count": 18,
   "id": "e6a89705",
   "metadata": {},
   "outputs": [],
   "source": [
    "y_test_pred = ada.predict(X_test)"
   ]
  },
  {
   "cell_type": "markdown",
   "id": "e8eb9c09",
   "metadata": {},
   "source": [
    "#### Model Evaluation"
   ]
  },
  {
   "cell_type": "markdown",
   "id": "b8ef3478",
   "metadata": {},
   "source": [
    "##### Train Model"
   ]
  },
  {
   "cell_type": "code",
   "execution_count": 19,
   "id": "40b06718",
   "metadata": {},
   "outputs": [
    {
     "name": "stdout",
     "output_type": "stream",
     "text": [
      "R2 of the Train Model = 0.8491960126086575\n"
     ]
    }
   ],
   "source": [
    "r2trn = r2_score(y_train, y_train_pred)\n",
    "print(\"R2 of the Train Model =\", r2trn)"
   ]
  },
  {
   "cell_type": "code",
   "execution_count": 20,
   "id": "1f7d1657",
   "metadata": {},
   "outputs": [
    {
     "name": "stdout",
     "output_type": "stream",
     "text": [
      "Mean Square Error of Train Model = 1.1602388544950335\n"
     ]
    }
   ],
   "source": [
    "msetrn = metrics.mean_squared_error(y_train, y_train_pred)\n",
    "print(\"Mean Square Error of Train Model =\", msetrn)"
   ]
  },
  {
   "cell_type": "code",
   "execution_count": 21,
   "id": "6766ce14",
   "metadata": {},
   "outputs": [
    {
     "name": "stdout",
     "output_type": "stream",
     "text": [
      "RMSE of the Train Model = 1.0771438411349867\n"
     ]
    }
   ],
   "source": [
    "rmsetrn = msetrn**0.5\n",
    "print(\"RMSE of the Train Model =\", rmsetrn)"
   ]
  },
  {
   "cell_type": "code",
   "execution_count": 22,
   "id": "1716de58",
   "metadata": {},
   "outputs": [
    {
     "name": "stdout",
     "output_type": "stream",
     "text": [
      "Mean Absolute Error of Train Model = 0.8374559151942819\n"
     ]
    }
   ],
   "source": [
    "maetrn = metrics.mean_absolute_error(y_train, y_train_pred)\n",
    "print(\"Mean Absolute Error of Train Model =\", maetrn)"
   ]
  },
  {
   "cell_type": "markdown",
   "id": "e94724a5",
   "metadata": {},
   "source": [
    "##### Validation Model"
   ]
  },
  {
   "cell_type": "code",
   "execution_count": 23,
   "id": "0c069ca5",
   "metadata": {},
   "outputs": [
    {
     "name": "stdout",
     "output_type": "stream",
     "text": [
      "R2 of the Validation Model = 0.812387070746909\n"
     ]
    }
   ],
   "source": [
    "r2val = r2_score(y_val, y_val_pred)\n",
    "print(\"R2 of the Validation Model =\", r2val)"
   ]
  },
  {
   "cell_type": "code",
   "execution_count": 24,
   "id": "03767a31",
   "metadata": {},
   "outputs": [
    {
     "name": "stdout",
     "output_type": "stream",
     "text": [
      "Mean Square Error of Validation Model = 1.3549481298210453\n"
     ]
    }
   ],
   "source": [
    "mseval = metrics.mean_squared_error(y_val, y_val_pred)\n",
    "print(\"Mean Square Error of Validation Model =\", mseval)"
   ]
  },
  {
   "cell_type": "code",
   "execution_count": 25,
   "id": "f4d3f568",
   "metadata": {},
   "outputs": [
    {
     "name": "stdout",
     "output_type": "stream",
     "text": [
      "RMSE of the Validation Model = 1.0771438411349867\n"
     ]
    }
   ],
   "source": [
    "rmseval = msetrn**0.5\n",
    "print(\"RMSE of the Validation Model =\", rmseval)"
   ]
  },
  {
   "cell_type": "code",
   "execution_count": 26,
   "id": "eb0aafca",
   "metadata": {},
   "outputs": [
    {
     "name": "stdout",
     "output_type": "stream",
     "text": [
      "Mean Absolute Error of Validation Model = 0.9044150431458883\n"
     ]
    }
   ],
   "source": [
    "maeval = metrics.mean_absolute_error(y_val, y_val_pred)\n",
    "print(\"Mean Absolute Error of Validation Model =\", maeval)"
   ]
  },
  {
   "cell_type": "markdown",
   "id": "50629205",
   "metadata": {},
   "source": [
    "##### Test Model"
   ]
  },
  {
   "cell_type": "code",
   "execution_count": 27,
   "id": "857222e1",
   "metadata": {},
   "outputs": [
    {
     "name": "stdout",
     "output_type": "stream",
     "text": [
      "R2 of the Test Model = 0.8129240298402682\n"
     ]
    }
   ],
   "source": [
    "r2tst = r2_score(y_test, y_test_pred)\n",
    "print(\"R2 of the Test Model =\", r2tst)"
   ]
  },
  {
   "cell_type": "code",
   "execution_count": 28,
   "id": "4d2c6b4e",
   "metadata": {},
   "outputs": [
    {
     "name": "stdout",
     "output_type": "stream",
     "text": [
      "Mean Square Error of Test Model = 1.3193753071663108\n"
     ]
    }
   ],
   "source": [
    "msetst = metrics.mean_squared_error(y_test, y_test_pred)\n",
    "print(\"Mean Square Error of Test Model =\", msetst)"
   ]
  },
  {
   "cell_type": "code",
   "execution_count": 29,
   "id": "04b952e8",
   "metadata": {},
   "outputs": [
    {
     "name": "stdout",
     "output_type": "stream",
     "text": [
      "RMSE of the Test Model = 1.1486406344746432\n"
     ]
    }
   ],
   "source": [
    "rmsetst = msetst**0.5\n",
    "print(\"RMSE of the Test Model =\", rmsetst)"
   ]
  },
  {
   "cell_type": "code",
   "execution_count": 30,
   "id": "578fc564",
   "metadata": {},
   "outputs": [
    {
     "name": "stdout",
     "output_type": "stream",
     "text": [
      "Mean Absolute Error of Test Model = 0.8647685239512208\n"
     ]
    }
   ],
   "source": [
    "maetst = metrics.mean_absolute_error(y_test, y_test_pred)\n",
    "print(\"Mean Absolute Error of Test Model =\", maetst)"
   ]
  },
  {
   "cell_type": "code",
   "execution_count": 31,
   "id": "aac4ccd6",
   "metadata": {},
   "outputs": [
    {
     "name": "stdout",
     "output_type": "stream",
     "text": [
      "The parameters of the line: [0.7713206  2.74101926]\n"
     ]
    }
   ],
   "source": [
    "theta = np.polyfit(y_test, y_test_pred, 1)\n",
    "print(f'The parameters of the line: {theta}')\n",
    "y_line = theta[1] + theta[0] * y_test #best fit line"
   ]
  },
  {
   "cell_type": "markdown",
   "id": "080bfb27",
   "metadata": {},
   "source": [
    "##### Plots"
   ]
  },
  {
   "cell_type": "code",
   "execution_count": 32,
   "id": "05e9bd34",
   "metadata": {},
   "outputs": [
    {
     "data": {
      "image/png": "[encoded data removed]",
      "text/plain": [
       "<Figure size 576x576 with 1 Axes>"
      ]
     },
     "metadata": {
      "needs_background": "light"
     },
     "output_type": "display_data"
    }
   ],
   "source": [
    "fig = plt.figure(figsize=(8, 8))\n",
    "plt.scatter(y_test, y_test_pred)\n",
    "plt.xlabel('Expected Porosity (%)')\n",
    "plt.ylabel('Predicted Porosity (%)')\n",
    "plt.xlim(0, 25)\n",
    "plt.ylim(0, 25)\n",
    "plt.plot([0,25], [0,25], 'black')\n",
    "plt.grid()"
   ]
  },
  {
   "cell_type": "code",
   "execution_count": 33,
   "id": "4ddefc33",
   "metadata": {},
   "outputs": [
    {
     "data": {
      "text/plain": [
       "Text(0.5, 1.0, 'Feature Importance (MDI)')"
      ]
     },
     "execution_count": 33,
     "metadata": {},
     "output_type": "execute_result"
    },
    {
     "data": {
      "image/png": "[encoded data removed]",
      "text/plain": [
       "<Figure size 1152x576 with 1 Axes>"
      ]
     },
     "metadata": {
      "needs_background": "light"
     },
     "output_type": "display_data"
    }
   ],
   "source": [
    "fig = plt.figure(figsize=(16, 8))\n",
    "feature_importance = ada.feature_importances_\n",
    "sorted_idx = np.argsort(feature_importance)\n",
    "pos = np.arange(sorted_idx.shape[0]) + 0.5\n",
    "plt.subplot(1, 2, 1)\n",
    "plt.barh(pos, feature_importance[sorted_idx], align=\"center\")\n",
    "plt.yticks(pos, np.array(['GR', 'NPHI', 'DT', 'DDLL', 'CAL', 'SP'])[sorted_idx])\n",
    "plt.title('Feature Importance (MDI)', fontsize=12)"
   ]
  },
  {
   "cell_type": "code",
   "execution_count": 34,
   "id": "f22befa4",
   "metadata": {},
   "outputs": [
    {
     "data": {
      "image/png": "[encoded data removed]",
      "text/plain": [
       "<Figure size 1008x504 with 1 Axes>"
      ]
     },
     "metadata": {
      "needs_background": "light"
     },
     "output_type": "display_data"
    }
   ],
   "source": [
    "fig = plt.figure(figsize=(14, 7))\n",
    "result = permutation_importance(\n",
    "    ada, X_test, y_test, n_repeats=10, random_state=0, n_jobs=2\n",
    ")\n",
    "sorted_idx = result.importances_mean.argsort()\n",
    "plt.subplot(1, 2, 2)\n",
    "plt.boxplot(\n",
    "    result.importances[sorted_idx].T,\n",
    "    vert=False,\n",
    "    labels=np.array(['GR', 'NPHI', 'DT', 'DDLL', 'CAL', 'SP'])[sorted_idx]\n",
    ")\n",
    "plt.title('Permutation Importance (test set)', fontsize=12)\n",
    "fig.tight_layout()\n",
    "plt.show()"
   ]
  },
  {
   "cell_type": "code",
   "execution_count": null,
   "id": "e6367afb",
   "metadata": {},
   "outputs": [],
   "source": []
  }
 ],
 "metadata": {
  "kernelspec": {
   "display_name": "Python 3 (ipykernel)",
   "language": "python",
   "name": "python3"
  },
  "language_info": {
   "codemirror_mode": {
    "name": "ipython",
    "version": 3
   },
   "file_extension": ".py",
   "mimetype": "text/x-python",
   "name": "python",
   "nbconvert_exporter": "python",
   "pygments_lexer": "ipython3",
   "version": "3.9.12"
  }
 },
 "nbformat": 4,
 "nbformat_minor": 5
}
